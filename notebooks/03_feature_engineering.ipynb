{
 "cells": [
  {
   "cell_type": "code",
   "execution_count": null,
   "id": "e3387b35",
   "metadata": {
    "vscode": {
     "languageId": "plaintext"
    }
   },
   "outputs": [],
   "source": [
    "import yaml\n",
    "\n",
    "with open('../config.yaml', 'r') as f:\n",
    "    config = yaml.safe_load(f)\n",
    "\n",
    "# Example usage:\n",
    "classification_features = config['features']['classification']\n",
    "regression_features = config['features']['regression']\n",
    "classification_target = config['targets']['classification']\n",
    "regression_target = config['targets']['regression']\n"
   ]
  },
  {
   "cell_type": "code",
   "execution_count": null,
   "id": "95ed1ffe",
   "metadata": {
    "vscode": {
     "languageId": "plaintext"
    }
   },
   "outputs": [],
   "source": [
    "# Cell 1: Import libraries\n",
    "import pandas as pd\n",
    "import numpy as np\n",
    "from sklearn.preprocessing import LabelEncoder, StandardScaler\n",
    "import warnings\n",
    "warnings.filterwarnings('ignore')\n",
    "\n",
    "print(\"Starting feature engineering process...\")\n"
   ]
  },
  {
   "cell_type": "code",
   "execution_count": null,
   "id": "eb6e6a74",
   "metadata": {
    "vscode": {
     "languageId": "plaintext"
    }
   },
   "outputs": [],
   "source": [
    "# Cell 2: Load cleaned data\n",
    "df = pd.read_csv('../data/processed/cleaned_flight_data.csv')\n",
    "print(f\"Data loaded. Shape: {df.shape}\")\n",
    "print(\"Columns:\", df.columns.tolist())\n"
   ]
  },
  {
   "cell_type": "code",
   "execution_count": null,
   "id": "f674989e",
   "metadata": {
    "vscode": {
     "languageId": "plaintext"
    }
   },
   "outputs": [],
   "source": [
    "# Cell 3: Create target variables\n",
    "print(\"=== CREATING TARGET VARIABLES ===\")\n",
    "\n",
    "# Target 1: Binary classification - Is flight delayed (≥15 minutes)?\n",
    "df['is_delayed'] = (df['arr_delay'] >= 15).astype(int)\n",
    "\n",
    "# Target 2: Regression - Delay duration (only positive delays)\n",
    "df['delay_duration'] = df['arr_delay'].clip(lower=0)\n",
    "\n",
    "print(f\"Delay classification distribution:\")\n",
    "print(df['is_delayed'].value_counts())\n",
    "print(f\"\\nDelay percentage: {(df['is_delayed'].mean() * 100):.2f}%\")\n",
    "print(f\"Average delay duration: {df['delay_duration'].mean():.2f} minutes\")\n"
   ]
  },
  {
   "cell_type": "code",
   "execution_count": null,
   "id": "8c169644",
   "metadata": {
    "vscode": {
     "languageId": "plaintext"
    }
   },
   "outputs": [],
   "source": [
    "# Cell 4: Feature selection based on correlation and domain knowledge\n",
    "print(\"=== FEATURE SELECTION ===\")\n",
    "\n",
    "# Core operational features\n",
    "base_features = [\n",
    "    'arr_flights',      # Number of arrival flights\n",
    "    'carrier_ct',       # Carrier delay count\n",
    "    'weather_ct',       # Weather delay count  \n",
    "    'nas_ct',          # NAS delay count\n",
    "    'security_ct',     # Security delay count\n",
    "    'late_aircraft_ct' # Late aircraft delay count\n",
    "]\n",
    "\n",
    "# Additional features for model\n",
    "categorical_features = ['carrier', 'airport', 'month']\n",
    "delay_features = ['carrier_delay', 'weather_delay', 'nas_delay', 'security_delay', 'late_aircraft_delay']\n",
    "\n",
    "# Check which features exist in the dataset\n",
    "available_features = []\n",
    "for feature in base_features + categorical_features + delay_features:\n",
    "    if feature in df.columns:\n",
    "        available_features.append(feature)\n",
    "        \n",
    "print(\"Available features for modeling:\", available_features)\n"
   ]
  },
  {
   "cell_type": "code",
   "execution_count": null,
   "id": "25538a44",
   "metadata": {
    "vscode": {
     "languageId": "plaintext"
    }
   },
   "outputs": [],
   "source": [
    "# Cell 5: Create derived features\n",
    "print(\"=== CREATING DERIVED FEATURES ===\")\n",
    "\n",
    "# Total delay incidents\n",
    "df['total_delay_incidents'] = (df['carrier_ct'] + df['weather_ct'] + \n",
    "                              df['nas_ct'] + df['security_ct'] + df['late_aircraft_ct'])\n",
    "\n",
    "# Total delay minutes\n",
    "df['total_delay_minutes'] = (df['carrier_delay'] + df['weather_delay'] + \n",
    "                           df['nas_delay'] + df['security_delay'] + df['late_aircraft_delay'])\n",
    "\n",
    "# Delay rates\n",
    "df['delay_incident_rate'] = df['total_delay_incidents'] / df['arr_flights'].replace(0, 1)\n",
    "\n",
    "# Controllable vs uncontrollable delays (for OAI)\n",
    "df['controllable_delays'] = df['carrier_ct'] + df['late_aircraft_ct']\n",
    "df['uncontrollable_delays'] = df['weather_ct'] + df['security_ct']\n",
    "df['controllable_delay_minutes'] = df['carrier_delay'] + df['late_aircraft_delay']\n",
    "\n",
    "# Average delay per incident\n",
    "df['avg_delay_per_incident'] = df['total_delay_minutes'] / df['total_delay_incidents'].replace(0, 1)\n",
    "\n",
    "print(\"Derived features created successfully!\")\n"
   ]
  },
  {
   "cell_type": "code",
   "execution_count": null,
   "id": "6a05cca2",
   "metadata": {
    "vscode": {
     "languageId": "plaintext"
    }
   },
   "outputs": [],
   "source": [
    "# Cell 6: Handle categorical variables\n",
    "print(\"=== ENCODING CATEGORICAL VARIABLES ===\")\n",
    "\n",
    "# Create a copy for modeling\n",
    "df_model = df.copy()\n",
    "\n",
    "# Label encoding for high cardinality features\n",
    "label_encoders = {}\n",
    "\n",
    "# Encode carrier\n",
    "if 'carrier' in df_model.columns:\n",
    "    le_carrier = LabelEncoder()\n",
    "    df_model['carrier_encoded'] = le_carrier.fit_transform(df_model['carrier'].astype(str))\n",
    "    label_encoders['carrier'] = le_carrier\n",
    "\n",
    "# Encode airport  \n",
    "if 'airport' in df_model.columns:\n",
    "    le_airport = LabelEncoder()\n",
    "    df_model['airport_encoded'] = le_airport.fit_transform(df_model['airport'].astype(str))\n",
    "    label_encoders['airport'] = le_airport\n",
    "\n",
    "# One-hot encoding for month (low cardinality)\n",
    "if 'month' in df_model.columns:\n",
    "    month_dummies = pd.get_dummies(df_model['month'], prefix='month')\n",
    "    df_model = pd.concat([df_model, month_dummies], axis=1)\n",
    "\n",
    "print(\"Categorical encoding completed!\")\n"
   ]
  },
  {
   "cell_type": "code",
   "execution_count": null,
   "id": "02223264",
   "metadata": {
    "vscode": {
     "languageId": "plaintext"
    }
   },
   "outputs": [],
   "source": [
    "# Cell 7: Define feature sets for different models\n",
    "print(\"=== DEFINING FEATURE SETS ===\")\n",
    "\n",
    "# Features for classification model (predict is_delayed)\n",
    "classification_features = [\n",
    "    'arr_flights',\n",
    "    'carrier_ct', 'weather_ct', 'nas_ct', 'security_ct', 'late_aircraft_ct',\n",
    "    'total_delay_incidents', 'delay_incident_rate',\n",
    "    'controllable_delays', 'uncontrollable_delays',\n",
    "    'carrier_encoded', 'airport_encoded'\n",
    "] + [col for col in df_model.columns if col.startswith('month_')]\n",
    "\n",
    "# Features for regression model (predict delay_duration)\n",
    "regression_features = classification_features + [\n",
    "    'carrier_delay', 'weather_delay', 'nas_delay', 'security_delay', 'late_aircraft_delay',\n",
    "    'total_delay_minutes', 'controllable_delay_minutes', 'avg_delay_per_incident'\n",
    "]\n",
    "\n",
    "# Filter features that actually exist in the dataset\n",
    "classification_features = [f for f in classification_features if f in df_model.columns]\n",
    "regression_features = [f for f in regression_features if f in df_model.columns]\n",
    "\n",
    "print(f\"Classification features ({len(classification_features)}): {classification_features}\")\n",
    "print(f\"Regression features ({len(regression_features)}): {regression_features}\")\n"
   ]
  },
  {
   "cell_type": "code",
   "execution_count": null,
   "id": "73b0beaf",
   "metadata": {
    "vscode": {
     "languageId": "plaintext"
    }
   },
   "outputs": [],
   "source": [
    "# Cell 8: Feature scaling and final preprocessing\n",
    "print(\"=== FEATURE SCALING ===\")\n",
    "\n",
    "# Separate numerical features for scaling\n",
    "numerical_features = ['arr_flights', 'carrier_ct', 'weather_ct', 'nas_ct', 'security_ct', \n",
    "                     'late_aircraft_ct', 'total_delay_incidents', 'delay_incident_rate',\n",
    "                     'controllable_delays', 'uncontrollable_delays']\n",
    "\n",
    "if any('delay' in col and col not in ['is_delayed', 'delay_duration'] for col in df_model.columns):\n",
    "    numerical_features.extend(['carrier_delay', 'weather_delay', 'nas_delay', \n",
    "                              'security_delay', 'late_aircraft_delay', 'total_delay_minutes',\n",
    "                              'controllable_delay_minutes', 'avg_delay_per_incident'])\n",
    "\n",
    "# Filter to existing columns\n",
    "numerical_features = [f for f in numerical_features if f in df_model.columns]\n",
    "\n",
    "# Create scalers\n",
    "scaler_classification = StandardScaler()\n",
    "scaler_regression = StandardScaler()\n",
    "\n",
    "# Scale features for classification\n",
    "X_classification = df_model[classification_features].copy()\n",
    "X_classification[numerical_features] = scaler_classification.fit_transform(X_classification[numerical_features])\n",
    "\n",
    "# Scale features for regression  \n",
    "X_regression = df_model[regression_features].copy()\n",
    "regression_numerical = [f for f in numerical_features if f in regression_features]\n",
    "X_regression[regression_numerical] = scaler_regression.fit_transform(X_regression[regression_numerical])\n",
    "\n",
    "print(\"Feature scaling completed!\")\n"
   ]
  },
  {
   "cell_type": "code",
   "execution_count": null,
   "id": "0669e38d",
   "metadata": {
    "vscode": {
     "languageId": "plaintext"
    }
   },
   "outputs": [],
   "source": [
    "# Cell 9: Create final datasets and save\n",
    "print(\"=== CREATING FINAL DATASETS ===\")\n",
    "\n",
    "# Classification dataset\n",
    "classification_data = X_classification.copy()\n",
    "classification_data['is_delayed'] = df_model['is_delayed']\n",
    "classification_data['arr_delay'] = df_model['arr_delay']  # Keep for reference\n",
    "\n",
    "# Regression dataset (only delayed flights)\n",
    "regression_data = X_regression.copy()\n",
    "regression_data['delay_duration'] = df_model['delay_duration']\n",
    "regression_data['is_delayed'] = df_model['is_delayed']\n",
    "regression_data['arr_delay'] = df_model['arr_delay']  # Keep for reference\n",
    "\n",
    "# Save datasets\n",
    "import os\n",
    "os.makedirs('../data/processed', exist_ok=True)\n",
    "\n",
    "classification_data.to_csv('../data/processed/classification_data.csv', index=False)\n",
    "regression_data.to_csv('../data/processed/regression_data.csv', index=False)\n",
    "\n",
    "# Save the full processed dataset\n",
    "df_model.to_csv('../data/processed/model_ready_data.csv', index=False)\n",
    "\n",
    "print(\"Datasets saved successfully!\")\n",
    "print(f\"Classification data shape: {classification_data.shape}\")\n",
    "print(f\"Regression data shape: {regression_data.shape}\")\n"
   ]
  },
  {
   "cell_type": "code",
   "execution_count": null,
   "id": "2562077c",
   "metadata": {
    "vscode": {
     "languageId": "plaintext"
    }
   },
   "outputs": [],
   "source": [
    "# Cell 10: Feature importance preview using correlation\n",
    "print(\"=== FEATURE IMPORTANCE PREVIEW ===\")\n",
    "\n",
    "# Correlation with target variables\n",
    "print(\"Top features correlated with is_delayed:\")\n",
    "classification_corr = classification_data.corr()['is_delayed'].abs().sort_values(ascending=False)\n",
    "print(classification_corr.head(10))\n",
    "\n",
    "print(\"\\nTop features correlated with delay_duration:\")\n",
    "regression_corr = regression_data.corr()['delay_duration'].abs().sort_values(ascending=False)\n",
    "print(regression_corr.head(10))\n",
    "\n",
    "# Save feature lists for future reference\n",
    "feature_info = {\n",
    "    'classification_features': classification_features,\n",
    "    'regression_features': regression_features,\n",
    "    'numerical_features': numerical_features\n",
    "}\n",
    "\n",
    "import json\n",
    "with open('../data/processed/feature_info.json', 'w') as f:\n",
    "    json.dump(feature_info, f, indent=2)\n",
    "\n",
    "print(\"\\nFeature engineering completed successfully!\")\n"
   ]
  }
 ],
 "metadata": {
  "language_info": {
   "name": "python"
  }
 },
 "nbformat": 4,
 "nbformat_minor": 5
}
