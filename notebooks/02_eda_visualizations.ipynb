{
 "cells": [
  {
   "cell_type": "code",
   "execution_count": null,
   "id": "6d030018",
   "metadata": {
    "vscode": {
     "languageId": "plaintext"
    }
   },
   "outputs": [],
   "source": [
    "import yaml\n",
    "\n",
    "with open('../config.yaml', 'r') as f:\n",
    "    config = yaml.safe_load(f)\n",
    "\n",
    "# Example usage:\n",
    "viz_dir = config['visualizations']['delay_distributions']\n"
   ]
  },
  {
   "cell_type": "code",
   "execution_count": null,
   "id": "632f358b",
   "metadata": {
    "vscode": {
     "languageId": "plaintext"
    }
   },
   "outputs": [],
   "source": [
    "# Cell 1: Import libraries\n",
    "import pandas as pd\n",
    "import numpy as np\n",
    "import matplotlib.pyplot as plt\n",
    "import seaborn as sns\n",
    "from datetime import datetime\n",
    "import warnings\n",
    "warnings.filterwarnings('ignore')\n",
    "\n",
    "# Set style\n",
    "plt.style.use('default')\n",
    "sns.set_palette(\"husl\")\n",
    "\n",
    "# Create visualization directories\n",
    "import os\n",
    "os.makedirs('../visualizations/delay_distributions', exist_ok=True)\n",
    "os.makedirs('../visualizations/temporal_patterns', exist_ok=True)\n",
    "os.makedirs('../visualizations/root_cause_analysis', exist_ok=True)\n",
    "os.makedirs('../visualizations/model_results', exist_ok=True)\n"
   ]
  },
  {
   "cell_type": "code",
   "execution_count": null,
   "id": "e9865331",
   "metadata": {
    "vscode": {
     "languageId": "plaintext"
    }
   },
   "outputs": [],
   "source": [
    "# Cell 2: Load cleaned data\n",
    "df = pd.read_csv('../data/processed/cleaned_flight_data.csv')\n",
    "print(f\"Data loaded. Shape: {df.shape}\")\n"
   ]
  },
  {
   "cell_type": "code",
   "execution_count": null,
   "id": "806980fc",
   "metadata": {
    "vscode": {
     "languageId": "plaintext"
    }
   },
   "outputs": [],
   "source": [
    "# Cell 3: Arrival delay distribution\n",
    "plt.figure(figsize=(15, 5))\n",
    "\n",
    "# Subplot 1: Overall delay distribution\n",
    "plt.subplot(1, 3, 1)\n",
    "plt.hist(df['arr_delay'], bins=100, alpha=0.7, color='skyblue', edgecolor='black')\n",
    "plt.title('Overall Arrival Delay Distribution')\n",
    "plt.xlabel('Delay (minutes)')\n",
    "plt.ylabel('Frequency')\n",
    "plt.xlim(-100, 500)\n",
    "\n",
    "# Subplot 2: Delay distribution (zoomed in)\n",
    "plt.subplot(1, 3, 2)\n",
    "delay_filtered = df[(df['arr_delay'] >= -60) & (df['arr_delay'] <= 300)]\n",
    "plt.hist(delay_filtered['arr_delay'], bins=50, alpha=0.7, color='lightcoral', edgecolor='black')\n",
    "plt.title('Delay Distribution (Filtered: -60 to 300 min)')\n",
    "plt.xlabel('Delay (minutes)')\n",
    "plt.ylabel('Frequency')\n",
    "\n",
    "# Subplot 3: On-time vs Delayed\n",
    "plt.subplot(1, 3, 3)\n",
    "on_time = (df['arr_delay'] < 15).sum()\n",
    "delayed = (df['arr_delay'] >= 15).sum()\n",
    "plt.pie([on_time, delayed], labels=['On-time (<15 min)', 'Delayed (≥15 min)'], \n",
    "        autopct='%1.1f%%', colors=['lightgreen', 'salmon'])\n",
    "plt.title('On-time vs Delayed Flights')\n",
    "\n",
    "plt.tight_layout()\n",
    "plt.savefig('../visualizations/delay_distributions/arrival_delay_analysis.png', dpi=300, bbox_inches='tight')\n",
    "plt.show()\n"
   ]
  },
  {
   "cell_type": "code",
   "execution_count": null,
   "id": "9caef313",
   "metadata": {
    "vscode": {
     "languageId": "plaintext"
    }
   },
   "outputs": [],
   "source": [
    "# Cell 4: Delay causes analysis\n",
    "plt.figure(figsize=(15, 10))\n",
    "\n",
    "# Calculate total delays by cause\n",
    "delay_causes = {\n",
    "    'Carrier': df['carrier_delay'].sum(),\n",
    "    'Weather': df['weather_delay'].sum(),\n",
    "    'NAS': df['nas_delay'].sum(),\n",
    "    'Security': df['security_delay'].sum(),\n",
    "    'Late Aircraft': df['late_aircraft_delay'].sum()\n",
    "}\n",
    "\n",
    "# Subplot 1: Total delay minutes by cause\n",
    "plt.subplot(2, 2, 1)\n",
    "causes = list(delay_causes.keys())\n",
    "minutes = list(delay_causes.values())\n",
    "bars = plt.bar(causes, minutes, color=['#FF9999', '#66B2FF', '#99FF99', '#FFCC99', '#FF99CC'])\n",
    "plt.title('Total Delay Minutes by Cause')\n",
    "plt.ylabel('Total Delay Minutes')\n",
    "plt.xticks(rotation=45)\n",
    "for bar in bars:\n",
    "    height = bar.get_height()\n",
    "    plt.text(bar.get_x() + bar.get_width()/2., height,\n",
    "             f'{int(height):,}', ha='center', va='bottom')\n",
    "\n",
    "# Subplot 2: Average delay per incident\n",
    "plt.subplot(2, 2, 2)\n",
    "avg_delays = {\n",
    "    'Carrier': df[df['carrier_ct'] > 0]['carrier_delay'].mean(),\n",
    "    'Weather': df[df['weather_ct'] > 0]['weather_delay'].mean(),\n",
    "    'NAS': df[df['nas_ct'] > 0]['nas_delay'].mean(),\n",
    "    'Security': df[df['security_ct'] > 0]['security_delay'].mean(),\n",
    "    'Late Aircraft': df[df['late_aircraft_ct'] > 0]['late_aircraft_delay'].mean()\n",
    "}\n",
    "avg_delays = {k: v for k, v in avg_delays.items() if not np.isnan(v)}\n",
    "plt.bar(avg_delays.keys(), avg_delays.values(), color=['#FF9999', '#66B2FF', '#99FF99', '#FFCC99', '#FF99CC'])\n",
    "plt.title('Average Delay per Incident by Cause')\n",
    "plt.ylabel('Average Delay (minutes)')\n",
    "plt.xticks(rotation=45)\n",
    "\n",
    "# Subplot 3: Frequency of delay causes\n",
    "plt.subplot(2, 2, 3)\n",
    "cause_counts = {\n",
    "    'Carrier': df['carrier_ct'].sum(),\n",
    "    'Weather': df['weather_ct'].sum(),\n",
    "    'NAS': df['nas_ct'].sum(),\n",
    "    'Security': df['security_ct'].sum(),\n",
    "    'Late Aircraft': df['late_aircraft_ct'].sum()\n",
    "}\n",
    "plt.bar(cause_counts.keys(), cause_counts.values(), color=['#FF9999', '#66B2FF', '#99FF99', '#FFCC99', '#FF99CC'])\n",
    "plt.title('Frequency of Delay Causes')\n",
    "plt.ylabel('Number of Incidents')\n",
    "plt.xticks(rotation=45)\n",
    "\n",
    "# Subplot 4: Pie chart of delay distribution\n",
    "plt.subplot(2, 2, 4)\n",
    "plt.pie(minutes, labels=causes, autopct='%1.1f%%', \n",
    "        colors=['#FF9999', '#66B2FF', '#99FF99', '#FFCC99', '#FF99CC'])\n",
    "plt.title('Distribution of Total Delay Minutes')\n",
    "\n",
    "plt.tight_layout()\n",
    "plt.savefig('../visualizations/root_cause_analysis/delay_causes_analysis.png', dpi=300, bbox_inches='tight')\n",
    "plt.show()\n"
   ]
  },
  {
   "cell_type": "code",
   "execution_count": null,
   "id": "4707a6fe",
   "metadata": {
    "vscode": {
     "languageId": "plaintext"
    }
   },
   "outputs": [],
   "source": [
    "# Cell 5: Temporal patterns analysis\n",
    "plt.figure(figsize=(20, 12))\n",
    "\n",
    "# Subplot 1: Delays by month\n",
    "plt.subplot(2, 3, 1)\n",
    "monthly_delays = df.groupby('month')['arr_delay'].mean()\n",
    "plt.plot(monthly_delays.index, monthly_delays.values, marker='o', linewidth=2, markersize=8)\n",
    "plt.title('Average Delay by Month')\n",
    "plt.xlabel('Month')\n",
    "plt.ylabel('Average Delay (minutes)')\n",
    "plt.xticks(range(1, 13))\n",
    "plt.grid(True, alpha=0.3)\n",
    "\n",
    "# Subplot 2: Flight volume by month\n",
    "plt.subplot(2, 3, 2)\n",
    "monthly_flights = df.groupby('month')['arr_flights'].sum()\n",
    "plt.bar(monthly_flights.index, monthly_flights.values, color='lightblue', alpha=0.7)\n",
    "plt.title('Total Flights by Month')\n",
    "plt.xlabel('Month')\n",
    "plt.ylabel('Total Flights')\n",
    "plt.xticks(range(1, 13))\n",
    "\n",
    "# Subplot 3: Delay percentage by month\n",
    "plt.subplot(2, 3, 3)\n",
    "monthly_delay_pct = df.groupby('month').apply(lambda x: (x['arr_delay'] >= 15).mean() * 100)\n",
    "plt.bar(monthly_delay_pct.index, monthly_delay_pct.values, color='salmon', alpha=0.7)\n",
    "plt.title('Percentage of Delayed Flights by Month')\n",
    "plt.xlabel('Month')\n",
    "plt.ylabel('% Delayed Flights')\n",
    "plt.xticks(range(1, 13))\n",
    "\n",
    "# Subplot 4: Top 10 airports by delay\n",
    "plt.subplot(2, 3, 4)\n",
    "airport_delays = df.groupby('airport')['arr_delay'].mean().sort_values(ascending=False).head(10)\n",
    "plt.barh(range(len(airport_delays)), airport_delays.values, color='orange', alpha=0.7)\n",
    "plt.yticks(range(len(airport_delays)), airport_delays.index)\n",
    "plt.title('Top 10 Airports by Average Delay')\n",
    "plt.xlabel('Average Delay (minutes)')\n",
    "\n",
    "# Subplot 5: Top 10 carriers by delay\n",
    "plt.subplot(2, 3, 5)\n",
    "carrier_delays = df.groupby('carrier')['arr_delay'].mean().sort_values(ascending=False).head(10)\n",
    "plt.barh(range(len(carrier_delays)), carrier_delays.values, color='lightcoral', alpha=0.7)\n",
    "plt.yticks(range(len(carrier_delays)), carrier_delays.index)\n",
    "plt.title('Top 10 Carriers by Average Delay')\n",
    "plt.xlabel('Average Delay (minutes)')\n",
    "\n",
    "# Subplot 6: Cancellation and diversion rates\n",
    "plt.subplot(2, 3, 6)\n",
    "total_flights = df['arr_flights'].sum()\n",
    "cancelled = df['arr_cancelled'].sum()\n",
    "diverted = df['arr_diverted'].sum()\n",
    "completed = total_flights - cancelled - diverted\n",
    "\n",
    "labels = ['Completed', 'Cancelled', 'Diverted']\n",
    "sizes = [completed, cancelled, diverted]\n",
    "colors = ['lightgreen', 'red', 'yellow']\n",
    "plt.pie(sizes, labels=labels, autopct='%1.2f%%', colors=colors)\n",
    "plt.title('Flight Completion Status')\n",
    "\n",
    "plt.tight_layout()\n",
    "plt.savefig('../visualizations/temporal_patterns/temporal_analysis.png', dpi=300, bbox_inches='tight')\n",
    "plt.show()\n"
   ]
  },
  {
   "cell_type": "code",
   "execution_count": null,
   "id": "c095e156",
   "metadata": {
    "vscode": {
     "languageId": "plaintext"
    }
   },
   "outputs": [],
   "source": [
    "# Cell 6: Correlation analysis\n",
    "plt.figure(figsize=(16, 12))\n",
    "\n",
    "# Select numerical columns for correlation\n",
    "numerical_cols = ['arr_flights', 'arr_del15', 'carrier_ct', 'weather_ct', 'nas_ct', \n",
    "                 'security_ct', 'late_aircraft_ct', 'arr_delay', 'carrier_delay', \n",
    "                 'weather_delay', 'nas_delay', 'security_delay', 'late_aircraft_delay']\n",
    "\n",
    "# Calculate correlation matrix\n",
    "corr_matrix = df[numerical_cols].corr()\n",
    "\n",
    "# Create heatmap\n",
    "mask = np.triu(np.ones_like(corr_matrix, dtype=bool))\n",
    "sns.heatmap(corr_matrix, mask=mask, annot=True, cmap='coolwarm', center=0,\n",
    "            square=True, linewidths=0.5, cbar_kws={\"shrink\": .8})\n",
    "plt.title('Correlation Matrix of Flight Delay Features')\n",
    "plt.tight_layout()\n",
    "plt.savefig('../visualizations/model_results/correlation_heatmap.png', dpi=300, bbox_inches='tight')\n",
    "plt.show()\n"
   ]
  },
  {
   "cell_type": "code",
   "execution_count": null,
   "id": "fe55bf73",
   "metadata": {
    "vscode": {
     "languageId": "plaintext"
    }
   },
   "outputs": [],
   "source": [
    "# Cell 7: Summary statistics\n",
    "print(\"=== EDA SUMMARY STATISTICS ===\")\n",
    "print(f\"Total records analyzed: {len(df):,}\")\n",
    "print(f\"Total flights: {df['arr_flights'].sum():,}\")\n",
    "print(f\"Total delayed flights (≥15 min): {(df['arr_delay'] >= 15).sum():,}\")\n",
    "print(f\"Delay rate: {((df['arr_delay'] >= 15).sum() / len(df)) * 100:.2f}%\")\n",
    "print(f\"Average delay (all flights): {df['arr_delay'].mean():.2f} minutes\")\n",
    "print(f\"Average delay (delayed flights only): {df[df['arr_delay'] >= 15]['arr_delay'].mean():.2f} minutes\")\n",
    "print(f\"Most delayed airport: {df.groupby('airport')['arr_delay'].mean().idxmax()}\")\n",
    "print(f\"Most delayed carrier: {df.groupby('carrier')['arr_delay'].mean().idxmax()}\")\n"
   ]
  },
  {
   "cell_type": "code",
   "execution_count": null,
   "id": "35ef1e48",
   "metadata": {
    "vscode": {
     "languageId": "plaintext"
    }
   },
   "outputs": [],
   "source": []
  }
 ],
 "metadata": {
  "language_info": {
   "name": "python"
  }
 },
 "nbformat": 4,
 "nbformat_minor": 5
}
