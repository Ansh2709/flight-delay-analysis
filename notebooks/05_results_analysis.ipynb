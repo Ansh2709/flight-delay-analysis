{
 "cells": [
  {
   "cell_type": "code",
   "execution_count": null,
   "id": "cd1632b7",
   "metadata": {
    "vscode": {
     "languageId": "plaintext"
    }
   },
   "outputs": [],
   "source": [
    "import yaml\n",
    "\n",
    "with open('../config.yaml', 'r') as f:\n",
    "    config = yaml.safe_load(f)\n",
    "\n",
    "# Example usage:\n",
    "classification_results_path = config['models']['classification_results']\n",
    "regression_results_path = config['models']['regression_results']\n",
    "report_dir = config['misc']['report_dir']\n"
   ]
  },
  {
   "cell_type": "code",
   "execution_count": null,
   "id": "2f9e6be1",
   "metadata": {
    "vscode": {
     "languageId": "plaintext"
    }
   },
   "outputs": [],
   "source": [
    "# Cell 1: Import libraries and load results\n",
    "import pandas as pd\n",
    "import numpy as np\n",
    "import matplotlib.pyplot as plt\n",
    "import seaborn as sns\n",
    "import json\n",
    "import joblib\n",
    "from sklearn.metrics import roc_curve, auc\n",
    "import warnings\n",
    "warnings.filterwarnings('ignore')\n",
    "\n",
    "print(\"Starting comprehensive results analysis...\")\n",
    "\n",
    "# Load model results\n",
    "with open('../data/models/trained_models/classification_results.json', 'r') as f:\n",
    "    classification_results = json.load(f)\n",
    "    \n",
    "with open('../data/models/trained_models/regression_results.json', 'r') as f:\n",
    "    regression_results = json.load(f)\n"
   ]
  },
  {
   "cell_type": "code",
   "execution_count": null,
   "id": "790ac6e8",
   "metadata": {
    "vscode": {
     "languageId": "plaintext"
    }
   },
   "outputs": [],
   "source": [
    "# Cell 2: Load trained models and data\n",
    "# Load models\n",
    "classification_model = joblib.load('../data/models/trained_models/classification_model.pkl')\n",
    "regression_model = joblib.load('../data/models/trained_models/regression_model.pkl')\n",
    "\n",
    "# Load test data\n",
    "classification_data = pd.read_csv('../data/processed/classification_data.csv')\n",
    "regression_data = pd.read_csv('../data/processed/regression_data.csv')\n",
    "\n",
    "print(\"Models and data loaded successfully!\")\n"
   ]
  },
  {
   "cell_type": "code",
   "execution_count": null,
   "id": "59b9cf1a",
   "metadata": {
    "vscode": {
     "languageId": "plaintext"
    }
   },
   "outputs": [],
   "source": [
    "# Cell 3: Comprehensive Model Performance Summary\n",
    "print(\"=== COMPREHENSIVE MODEL PERFORMANCE SUMMARY ===\")\n",
    "\n",
    "# Create performance summary table\n",
    "performance_summary = pd.DataFrame({\n",
    "    'Metric': ['Accuracy', 'Precision', 'Recall', 'F1-Score', 'AUC-ROC', 'MAE', 'RMSE', 'R²'],\n",
    "    'Classification Model': [\n",
    "        f\"{classification_results['metrics']['random_forest']['accuracy']:.4f}\",\n",
    "        f\"{classification_results['metrics']['random_forest']['precision']:.4f}\",\n",
    "        f\"{classification_results['metrics']['random_forest']['recall']:.4f}\",\n",
    "        f\"{classification_results['metrics']['random_forest']['f1']:.4f}\",\n",
    "        f\"{classification_results['metrics']['random_forest']['auc']:.4f}\",\n",
    "        'N/A', 'N/A', 'N/A'\n",
    "    ],\n",
    "    'Regression Model': [\n",
    "        'N/A', 'N/A', 'N/A', 'N/A', 'N/A',\n",
    "        f\"{regression_results['metrics']['random_forest']['mae']:.2f} min\",\n",
    "        f\"{regression_results['metrics']['random_forest']['rmse']:.2f} min\",\n",
    "        f\"{regression_results['metrics']['random_forest']['r2']:.4f}\"\n",
    "    ]\n",
    "})\n",
    "\n",
    "print(performance_summary.to_string(index=False))\n"
   ]
  },
  {
   "cell_type": "code",
   "execution_count": null,
   "id": "4f8d25ee",
   "metadata": {
    "vscode": {
     "languageId": "plaintext"
    }
   },
   "outputs": [],
   "source": [
    "# Cell 4: Advanced Analytics Summary\n",
    "fig, axes = plt.subplots(2, 3, figsize=(20, 12))\n",
    "\n",
    "# ROC-AUC Comparison\n",
    "axes[0,0].text(0.1, 0.8, 'Classification Model Performance', fontsize=14, fontweight='bold')\n",
    "axes[0,0].text(0.1, 0.7, f\"Standard AUC: {classification_results['oai_metrics']['standard_auc']:.4f}\", fontsize=12)\n",
    "axes[0,0].text(0.1, 0.6, f\"OAI-weighted AUC: {classification_results['oai_metrics']['oai_auc']:.4f}\", fontsize=12)\n",
    "axes[0,0].text(0.1, 0.5, f\"Best Model: {classification_results['best_model']}\", fontsize=12)\n",
    "axes[0,0].text(0.1, 0.4, f\"Test Accuracy: {classification_results['metrics']['random_forest']['accuracy']:.4f}\", fontsize=12)\n",
    "axes[0,0].set_xlim(0, 1)\n",
    "axes[0,0].set_ylim(0, 1)\n",
    "axes[0,0].set_title('Classification Summary')\n",
    "axes[0,0].axis('off')\n",
    "\n",
    "# Regression Performance\n",
    "axes[0,1].text(0.1, 0.8, 'Regression Model Performance', fontsize=14, fontweight='bold')\n",
    "axes[0,1].text(0.1, 0.7, f\"MAE: {regression_results['metrics']['random_forest']['mae']:.2f} minutes\", fontsize=12)\n",
    "axes[0,1].text(0.1, 0.6, f\"RMSE: {regression_results['metrics']['random_forest']['rmse']:.2f} minutes\", fontsize=12)\n",
    "axes[0,1].text(0.1, 0.5, f\"R² Score: {regression_results['metrics']['random_forest']['r2']:.4f}\", fontsize=12)\n",
    "axes[0,1].text(0.1, 0.4, f\"Best Model: {regression_results['best_model']}\", fontsize=12)\n",
    "axes[0,1].set_xlim(0, 1)\n",
    "axes[0,1].set_ylim(0, 1)\n",
    "axes[0,1].set_title('Regression Summary')\n",
    "axes[0,1].axis('off')\n",
    "\n",
    "# OAI Analysis Summary\n",
    "axes[0,2].text(0.1, 0.8, 'OAI Analysis Results', fontsize=14, fontweight='bold')\n",
    "axes[0,2].text(0.1, 0.7, 'Classification OAI:', fontsize=12, fontweight='bold')\n",
    "axes[0,2].text(0.1, 0.6, f\"  Standard AUC: {classification_results['oai_metrics']['standard_auc']:.4f}\", fontsize=10)\n",
    "axes[0,2].text(0.1, 0.55, f\"  OAI AUC: {classification_results['oai_metrics']['oai_auc']:.4f}\", fontsize=10)\n",
    "axes[0,2].text(0.1, 0.45, 'Regression OAI:', fontsize=12, fontweight='bold')\n",
    "axes[0,2].text(0.1, 0.35, f\"  RF OAI MAE: {regression_results['oai_metrics']['random_forest_oai_mae']:.2f} min\", fontsize=10)\n",
    "axes[0,2].text(0.1, 0.3, f\"  LR OAI MAE: {regression_results['oai_metrics']['linear_regression_oai_mae']:.2f} min\", fontsize=10)\n",
    "axes[0,2].text(0.1, 0.2, 'OAI prioritizes controllable delays', fontsize=10, style='italic')\n",
    "axes[0,2].set_xlim(0, 1)\n",
    "axes[0,2].set_ylim(0, 1)\n",
    "axes[0,2].set_title('OAI Metrics Summary')\n",
    "axes[0,2].axis('off')\n",
    "\n",
    "# Model Comparison Chart\n",
    "models = ['Classification\\n(Random Forest)', 'Regression\\n(Random Forest)']\n",
    "primary_metrics = [\n",
    "    classification_results['metrics']['random_forest']['f1'],\n",
    "    regression_results['metrics']['random_forest']['r2']\n",
    "]\n",
    "colors = ['skyblue', 'lightcoral']\n",
    "\n",
    "axes[1,0].bar(models, primary_metrics, color=colors, alpha=0.7)\n",
    "axes[1,0].set_title('Primary Model Performance')\n",
    "axes[1,0].set_ylabel('Score')\n",
    "axes[1,0].set_ylim(0, 1)\n",
    "for i, v in enumerate(primary_metrics):\n",
    "    axes[1,0].text(i, v + 0.01, f'{v:.4f}', ha='center', va='bottom')\n",
    "\n",
    "# Feature Count Comparison\n",
    "feature_counts = [\n",
    "    classification_results['feature_count'],\n",
    "    regression_results['feature_count']\n",
    "]\n",
    "\n",
    "axes[1,1].bar(models, feature_counts, color=colors, alpha=0.7)\n",
    "axes[1,1].set_title('Feature Count Used')\n",
    "axes[1,1].set_ylabel('Number of Features')\n",
    "for i, v in enumerate(feature_counts):\n",
    "    axes[1,1].text(i, v + 0.5, str(v), ha='center', va='bottom')\n",
    "\n",
    "# Dataset Size Comparison\n",
    "dataset_sizes = [\n",
    "    classification_results['test_size'],\n",
    "    regression_results['test_size']\n",
    "]\n",
    "\n",
    "axes[1,2].bar(models, dataset_sizes, color=colors, alpha=0.7)\n",
    "axes[1,2].set_title('Test Set Size')\n",
    "axes[1,2].set_ylabel('Number of Records')\n",
    "for i, v in enumerate(dataset_sizes):\n",
    "    axes[1,2].text(i, v + max(dataset_sizes)*0.01, f'{v:,}', ha='center', va='bottom')\n",
    "\n",
    "plt.tight_layout()\n",
    "plt.savefig('../visualizations/model_results/comprehensive_model_analysis.png', dpi=300, bbox_inches='tight')\n",
    "plt.show()\n"
   ]
  },
  {
   "cell_type": "code",
   "execution_count": null,
   "id": "eef01e47",
   "metadata": {
    "vscode": {
     "languageId": "plaintext"
    }
   },
   "outputs": [],
   "source": [
    "# Cell 5: SHAP Analysis Summary\n",
    "print(\"=== SHAP ANALYSIS SUMMARY ===\")\n",
    "\n",
    "# Load SHAP explainers and create summary insights\n",
    "try:\n",
    "    classification_explainer = joblib.load('../data/models/trained_models/classification_explainer.pkl')\n",
    "    regression_explainer = joblib.load('../data/models/trained_models/regression_explainer.pkl')\n",
    "    \n",
    "    print(\"✅ SHAP explainers loaded successfully\")\n",
    "    print(\"📊 SHAP analysis provides:\")\n",
    "    print(\"   - Feature importance rankings\")\n",
    "    print(\"   - Individual prediction explanations\")\n",
    "    print(\"   - Model interpretability insights\")\n",
    "    print(\"   - Controllable vs uncontrollable factor identification\")\n",
    "    \n",
    "except FileNotFoundError:\n",
    "    print(\"⚠️  SHAP explainers not found - run individual model notebooks first\")\n",
    "\n",
    "# Create SHAP insights summary\n",
    "shap_insights = {\n",
    "    \"classification\": {\n",
    "        \"purpose\": \"Explains why a flight is predicted to be delayed\",\n",
    "        \"key_features\": [\"carrier_ct\", \"late_aircraft_ct\", \"total_delay_incidents\"],\n",
    "        \"actionable_insights\": \"Focus on carrier operations and aircraft turnaround\"\n",
    "    },\n",
    "    \"regression\": {\n",
    "        \"purpose\": \"Explains predicted delay duration\",\n",
    "        \"key_features\": [\"carrier_delay\", \"late_aircraft_delay\", \"total_delay_minutes\"],\n",
    "        \"actionable_insights\": \"Minimize controllable delay sources\"\n",
    "    }\n",
    "}\n",
    "\n",
    "print(\"\\n📈 SHAP Insights:\")\n",
    "for model_type, insights in shap_insights.items():\n",
    "    print(f\"\\n{model_type.title()} Model:\")\n",
    "    print(f\"  Purpose: {insights['purpose']}\")\n",
    "    print(f\"  Key Features: {', '.join(insights['key_features'])}\")\n",
    "    print(f\"  Actionable: {insights['actionable_insights']}\")\n"
   ]
  },
  {
   "cell_type": "code",
   "execution_count": null,
   "id": "7c6233e3",
   "metadata": {
    "vscode": {
     "languageId": "plaintext"
    }
   },
   "outputs": [],
   "source": [
    "# Cell 6: Business Impact Analysis\n",
    "print(\"=== BUSINESS IMPACT ANALYSIS ===\")\n",
    "\n",
    "# Calculate potential business impact\n",
    "total_flights = classification_data['arr_flights'].sum()\n",
    "current_delay_rate = classification_data['is_delayed'].mean()\n",
    "current_avg_delay = regression_data[regression_data['delay_duration'] > 0]['delay_duration'].mean()\n",
    "\n",
    "# Simulate improvement scenarios\n",
    "scenarios = {\n",
    "    \"Conservative (5% improvement)\": 0.05,\n",
    "    \"Moderate (10% improvement)\": 0.10,\n",
    "    \"Aggressive (15% improvement)\": 0.15\n",
    "}\n",
    "\n",
    "print(f\"Current Performance Baseline:\")\n",
    "print(f\"  Total Flights Analyzed: {total_flights:,}\")\n",
    "print(f\"  Current Delay Rate: {current_delay_rate:.2%}\")\n",
    "print(f\"  Average Delay Duration: {current_avg_delay:.1f} minutes\")\n",
    "\n",
    "impact_analysis = []\n",
    "for scenario, improvement in scenarios.items():\n",
    "    improved_delay_rate = current_delay_rate * (1 - improvement)\n",
    "    improved_avg_delay = current_avg_delay * (1 - improvement) \n",
    "    \n",
    "    flights_saved = total_flights * (current_delay_rate - improved_delay_rate)\n",
    "    minutes_saved = total_flights * current_delay_rate * (current_avg_delay - improved_avg_delay)\n",
    "    \n",
    "    # Rough cost savings calculation (assuming $50 per delayed flight operational cost)\n",
    "    cost_savings = flights_saved * 50\n",
    "    \n",
    "    impact_analysis.append({\n",
    "        'Scenario': scenario,\n",
    "        'New Delay Rate': f\"{improved_delay_rate:.2%}\",\n",
    "        'New Avg Delay': f\"{improved_avg_delay:.1f} min\",\n",
    "        'Flights Saved': f\"{flights_saved:,.0f}\",\n",
    "        'Minutes Saved': f\"{minutes_saved:,.0f}\",\n",
    "        'Est. Cost Savings': f\"${cost_savings:,.0f}\"\n",
    "    })\n",
    "\n",
    "impact_df = pd.DataFrame(impact_analysis)\n",
    "print(f\"\\nPotential Business Impact:\")\n",
    "print(impact_df.to_string(index=False))\n"
   ]
  },
  {
   "cell_type": "code",
   "execution_count": null,
   "id": "68df65d7",
   "metadata": {
    "vscode": {
     "languageId": "plaintext"
    }
   },
   "outputs": [],
   "source": [
    "# Cell 7: Actionable Recommendations\n",
    "print(\"=== ACTIONABLE RECOMMENDATIONS ===\")\n",
    "\n",
    "recommendations = {\n",
    "    \"Immediate Actions (0-3 months)\": [\n",
    "        \"Implement model predictions in operations dashboard\",\n",
    "        \"Focus on controllable delays (carrier and late aircraft)\",\n",
    "        \"Establish alert system for high-risk delay conditions\",\n",
    "        \"Train operations team on model insights\"\n",
    "    ],\n",
    "    \"Short-term Improvements (3-6 months)\": [\n",
    "        \"Optimize aircraft turnaround processes\",\n",
    "        \"Improve carrier scheduling algorithms\", \n",
    "        \"Enhance ground crew resource allocation\",\n",
    "        \"Develop proactive passenger communication system\"\n",
    "    ],\n",
    "    \"Long-term Strategic (6+ months)\": [\n",
    "        \"Integrate weather forecasting with delay predictions\",\n",
    "        \"Implement dynamic scheduling based on predictions\",\n",
    "        \"Develop partnerships for shared delay mitigation\",\n",
    "        \"Create data-driven crew scheduling optimization\"\n",
    "    ]\n",
    "}\n",
    "\n",
    "for timeline, actions in recommendations.items():\n",
    "    print(f\"\\n{timeline}:\")\n",
    "    for i, action in enumerate(actions, 1):\n",
    "        print(f\"  {i}. {action}\")\n",
    "\n",
    "# Priority matrix based on OAI analysis\n",
    "print(f\"\\n🎯 PRIORITY FOCUS AREAS (Based on OAI Analysis):\")\n",
    "print(f\"  1. HIGH PRIORITY: Carrier delays (controllable)\")\n",
    "print(f\"  2. HIGH PRIORITY: Late aircraft delays)\n"
   ]
  },
  {
   "cell_type": "code",
   "execution_count": null,
   "id": "08682cd0",
   "metadata": {
    "vscode": {
     "languageId": "plaintext"
    }
   },
   "outputs": [],
   "source": []
  }
 ],
 "metadata": {
  "language_info": {
   "name": "python"
  }
 },
 "nbformat": 4,
 "nbformat_minor": 5
}
